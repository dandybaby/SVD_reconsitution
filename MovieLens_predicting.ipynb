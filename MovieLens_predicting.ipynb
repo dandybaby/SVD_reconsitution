{
  "nbformat": 4,
  "nbformat_minor": 0,
  "metadata": {
    "colab": {
      "name": "MovieLens_predicting.ipynb",
      "provenance": [],
      "collapsed_sections": [],
      "toc_visible": true,
      "authorship_tag": "ABX9TyOZQ5b0Ruprv1i0wU0Sh0pQ",
      "include_colab_link": true
    },
    "kernelspec": {
      "name": "python3",
      "display_name": "Python 3"
    },
    "accelerator": "TPU"
  },
  "cells": [
    {
      "cell_type": "markdown",
      "metadata": {
        "id": "view-in-github",
        "colab_type": "text"
      },
      "source": [
        "<a href=\"https://colab.research.google.com/github/dandybaby/SVD_reconsitution/blob/master/MovieLens_predicting.ipynb\" target=\"_parent\"><img src=\"https://colab.research.google.com/assets/colab-badge.svg\" alt=\"Open In Colab\"/></a>"
      ]
    },
    {
      "cell_type": "code",
      "metadata": {
        "id": "oNNoKB4-pQMP",
        "colab_type": "code",
        "colab": {}
      },
      "source": [
        "from surprise import SVD,SVDpp\n",
        "from surprise import Dataset\n",
        "from surprise.model_selection import cross_validate\n",
        "from surprise import Reader\n",
        "from surprise import accuracy\n",
        "from surprise.model_selection import KFold, split\n",
        "import pandas as pd"
      ],
      "execution_count": 0,
      "outputs": []
    },
    {
      "cell_type": "code",
      "metadata": {
        "id": "_QnVd6mn4YqK",
        "colab_type": "code",
        "outputId": "837b1c0c-8cee-409d-d198-5e48ce4cc694",
        "colab": {
          "base_uri": "https://localhost:8080/",
          "height": 35
        }
      },
      "source": [
        "from google.colab import drive\n",
        "drive.mount('/content/drive')\n",
        "# 数据读取\n",
        "reader = Reader(line_format='user item rating timestamp', sep=',', skip_lines=1)\n",
        "data = Dataset.load_from_file('ratings.csv', reader=reader)\n",
        "#train_set = data.build_full_trainset()\n",
        "train_s,test_s = split.train_test_split(data, train_size=0.8)"
      ],
      "execution_count": 0,
      "outputs": [
        {
          "output_type": "stream",
          "text": [
            "Drive already mounted at /content/drive; to attempt to forcibly remount, call drive.mount(\"/content/drive\", force_remount=True).\n"
          ],
          "name": "stdout"
        }
      ]
    },
    {
      "cell_type": "code",
      "metadata": {
        "id": "cR4X36PecOpa",
        "colab_type": "code",
        "colab": {}
      },
      "source": [
        "# 使用biasSVD\n",
        "algo1 = SVD()\n",
        "# 使用funkSVD\n",
        "algo2 = SVD(biased = False)\n",
        "# 使用SVD++\n",
        "algo3 = SVDpp()\n"
      ],
      "execution_count": 0,
      "outputs": []
    },
    {
      "cell_type": "code",
      "metadata": {
        "id": "G9EmB5q0oMn1",
        "colab_type": "code",
        "outputId": "2f3f1cb3-c273-4897-de28-a49c50861c10",
        "colab": {
          "base_uri": "https://localhost:8080/",
          "height": 143
        }
      },
      "source": [
        "print('biasSVD结果')\n",
        "algo1.fit(train_s)\n",
        "pre = algo1.test(test_s)\n",
        "accuracy.rmse(pre,verbose=True)\n",
        "print('funkSVD结果')\n",
        "algo2.fit(train_s)\n",
        "pre = algo2.test(test_s)\n",
        "accuracy.rmse(pre,verbose=True)\n",
        "print('SVD++结果')\n",
        "algo3.fit(train_s)\n",
        "pre = algo3.test(test_s)\n",
        "accuracy.rmse(pre,verbose=True)"
      ],
      "execution_count": 0,
      "outputs": [
        {
          "output_type": "stream",
          "text": [
            "biasSVD结果\n",
            "RMSE: 0.8339\n",
            "funkSVD结果\n",
            "RMSE: 0.8560\n",
            "SVD++结果\n",
            "RMSE: 0.8209\n"
          ],
          "name": "stdout"
        },
        {
          "output_type": "execute_result",
          "data": {
            "text/plain": [
              "0.8209289826127482"
            ]
          },
          "metadata": {
            "tags": []
          },
          "execution_count": 12
        }
      ]
    }
  ]
}